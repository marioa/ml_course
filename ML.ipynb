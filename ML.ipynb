{
 "cells": [
  {
   "cell_type": "markdown",
   "id": "113e5f48",
   "metadata": {},
   "source": [
    "# Introduction to machine learning"
   ]
  },
  {
   "cell_type": "markdown",
   "id": "7bf6c0bf-0ed8-4f07-b7c9-09ed6440e9c3",
   "metadata": {},
   "source": [
    "Coure notes are [here](https://carpentries-incubator.github.io/machine-learning-novice-python/)."
   ]
  },
  {
   "cell_type": "markdown",
   "id": "728ccfd3",
   "metadata": {},
   "source": [
    "## Data preparation"
   ]
  },
  {
   "cell_type": "markdown",
   "id": "19eadc03",
   "metadata": {},
   "source": [
    "### Load in the data"
   ]
  },
  {
   "cell_type": "code",
   "execution_count": 2,
   "id": "19f646e9",
   "metadata": {},
   "outputs": [
    {
     "data": {
      "text/html": [
       "<div>\n",
       "<style scoped>\n",
       "    .dataframe tbody tr th:only-of-type {\n",
       "        vertical-align: middle;\n",
       "    }\n",
       "\n",
       "    .dataframe tbody tr th {\n",
       "        vertical-align: top;\n",
       "    }\n",
       "\n",
       "    .dataframe thead th {\n",
       "        text-align: right;\n",
       "    }\n",
       "</style>\n",
       "<table border=\"1\" class=\"dataframe\">\n",
       "  <thead>\n",
       "    <tr style=\"text-align: right;\">\n",
       "      <th></th>\n",
       "      <th>gender</th>\n",
       "      <th>age</th>\n",
       "      <th>admissionweight</th>\n",
       "      <th>unabridgedhosplos</th>\n",
       "      <th>acutephysiologyscore</th>\n",
       "      <th>apachescore</th>\n",
       "      <th>actualhospitalmortality</th>\n",
       "      <th>heartrate</th>\n",
       "      <th>meanbp</th>\n",
       "      <th>creatinine</th>\n",
       "      <th>temperature</th>\n",
       "      <th>respiratoryrate</th>\n",
       "      <th>wbc</th>\n",
       "      <th>admissionheight</th>\n",
       "    </tr>\n",
       "  </thead>\n",
       "  <tbody>\n",
       "    <tr>\n",
       "      <th>0</th>\n",
       "      <td>Male</td>\n",
       "      <td>45.0</td>\n",
       "      <td>116.0</td>\n",
       "      <td>3.0778</td>\n",
       "      <td>41</td>\n",
       "      <td>46</td>\n",
       "      <td>ALIVE</td>\n",
       "      <td>109.0</td>\n",
       "      <td>154.0</td>\n",
       "      <td>1.01</td>\n",
       "      <td>36.20</td>\n",
       "      <td>41.0</td>\n",
       "      <td>10.0</td>\n",
       "      <td>178.0</td>\n",
       "    </tr>\n",
       "    <tr>\n",
       "      <th>1</th>\n",
       "      <td>Male</td>\n",
       "      <td>57.0</td>\n",
       "      <td>NaN</td>\n",
       "      <td>7.6736</td>\n",
       "      <td>26</td>\n",
       "      <td>31</td>\n",
       "      <td>ALIVE</td>\n",
       "      <td>106.0</td>\n",
       "      <td>46.0</td>\n",
       "      <td>-1.00</td>\n",
       "      <td>36.30</td>\n",
       "      <td>6.0</td>\n",
       "      <td>10.1</td>\n",
       "      <td>172.7</td>\n",
       "    </tr>\n",
       "    <tr>\n",
       "      <th>2</th>\n",
       "      <td>Female</td>\n",
       "      <td>59.0</td>\n",
       "      <td>66.6</td>\n",
       "      <td>15.0778</td>\n",
       "      <td>56</td>\n",
       "      <td>61</td>\n",
       "      <td>ALIVE</td>\n",
       "      <td>134.0</td>\n",
       "      <td>172.0</td>\n",
       "      <td>1.03</td>\n",
       "      <td>34.80</td>\n",
       "      <td>32.0</td>\n",
       "      <td>25.5</td>\n",
       "      <td>170.2</td>\n",
       "    </tr>\n",
       "    <tr>\n",
       "      <th>3</th>\n",
       "      <td>Male</td>\n",
       "      <td>63.0</td>\n",
       "      <td>71.9</td>\n",
       "      <td>1.3201</td>\n",
       "      <td>77</td>\n",
       "      <td>88</td>\n",
       "      <td>EXPIRED</td>\n",
       "      <td>133.0</td>\n",
       "      <td>40.0</td>\n",
       "      <td>4.30</td>\n",
       "      <td>32.60</td>\n",
       "      <td>39.0</td>\n",
       "      <td>12.6</td>\n",
       "      <td>167.6</td>\n",
       "    </tr>\n",
       "    <tr>\n",
       "      <th>4</th>\n",
       "      <td>Male</td>\n",
       "      <td>67.0</td>\n",
       "      <td>104.8</td>\n",
       "      <td>1.5257</td>\n",
       "      <td>75</td>\n",
       "      <td>88</td>\n",
       "      <td>EXPIRED</td>\n",
       "      <td>31.0</td>\n",
       "      <td>133.0</td>\n",
       "      <td>0.70</td>\n",
       "      <td>36.44</td>\n",
       "      <td>31.0</td>\n",
       "      <td>11.3</td>\n",
       "      <td>182.9</td>\n",
       "    </tr>\n",
       "  </tbody>\n",
       "</table>\n",
       "</div>"
      ],
      "text/plain": [
       "   gender   age  admissionweight  unabridgedhosplos  acutephysiologyscore  \\\n",
       "0    Male  45.0            116.0             3.0778                    41   \n",
       "1    Male  57.0              NaN             7.6736                    26   \n",
       "2  Female  59.0             66.6            15.0778                    56   \n",
       "3    Male  63.0             71.9             1.3201                    77   \n",
       "4    Male  67.0            104.8             1.5257                    75   \n",
       "\n",
       "   apachescore actualhospitalmortality  heartrate  meanbp  creatinine  \\\n",
       "0           46                   ALIVE      109.0   154.0        1.01   \n",
       "1           31                   ALIVE      106.0    46.0       -1.00   \n",
       "2           61                   ALIVE      134.0   172.0        1.03   \n",
       "3           88                 EXPIRED      133.0    40.0        4.30   \n",
       "4           88                 EXPIRED       31.0   133.0        0.70   \n",
       "\n",
       "   temperature  respiratoryrate   wbc  admissionheight  \n",
       "0        36.20             41.0  10.0            178.0  \n",
       "1        36.30              6.0  10.1            172.7  \n",
       "2        34.80             32.0  25.5            170.2  \n",
       "3        32.60             39.0  12.6            167.6  \n",
       "4        36.44             31.0  11.3            182.9  "
      ]
     },
     "execution_count": 2,
     "metadata": {},
     "output_type": "execute_result"
    }
   ],
   "source": [
    "import pandas as pd\n",
    "\n",
    "# load the data\n",
    "cohort = pd.read_csv('./eicu_cohort.csv')\n",
    "cohort.head()"
   ]
  },
  {
   "cell_type": "markdown",
   "id": "7f258725",
   "metadata": {},
   "source": [
    "### SQL Query"
   ]
  },
  {
   "cell_type": "markdown",
   "id": "950c504c",
   "metadata": {},
   "source": [
    "```sql\n",
    "SELECT p.gender, SAFE_CAST(p.age as int64) as age, p.admissionweight,\n",
    "       a.unabridgedhosplos, a.acutephysiologyscore, a.apachescore, a.actualhospitalmortality,\n",
    "       av.heartrate, av.meanbp, av.creatinine, av.temperature, av.respiratoryrate,\n",
    "       av.wbc, p.admissionheight\n",
    "FROM `physionet-data.eicu_crd_demo.patient` p\n",
    "INNER JOIN `physionet-data.eicu_crd_demo.apachepatientresult` a\n",
    "ON p.patientunitstayid = a.patientunitstayid\n",
    "INNER JOIN `physionet-data.eicu_crd_demo.apacheapsvar` av\n",
    "ON p.patientunitstayid = av.patientunitstayid\n",
    "WHERE apacheversion LIKE 'IVa'\n",
    "```"
   ]
  },
  {
   "cell_type": "markdown",
   "id": "04b376b0",
   "metadata": {},
   "source": [
    "### Data exploration"
   ]
  },
  {
   "cell_type": "markdown",
   "id": "468960ad-2b60-4a88-a972-2c3c14425706",
   "metadata": {},
   "source": [
    "Run the line below otherwise you get a lot of `FutureWarning` messages from `tableone` when using Python 3.11."
   ]
  },
  {
   "cell_type": "code",
   "execution_count": 25,
   "id": "07ee9f64-091b-453d-804e-a052c166540a",
   "metadata": {},
   "outputs": [],
   "source": [
    "# Disable FutureWarning messages\n",
    "import warnings\n",
    "warnings.simplefilter(action='ignore', category=FutureWarning)"
   ]
  },
  {
   "cell_type": "code",
   "execution_count": 26,
   "id": "8b53ef30",
   "metadata": {},
   "outputs": [
    {
     "data": {
      "text/html": [
       "<div>\n",
       "<style scoped>\n",
       "    .dataframe tbody tr th:only-of-type {\n",
       "        vertical-align: middle;\n",
       "    }\n",
       "\n",
       "    .dataframe tbody tr th {\n",
       "        vertical-align: top;\n",
       "    }\n",
       "\n",
       "    .dataframe thead tr th {\n",
       "        text-align: left;\n",
       "    }\n",
       "</style>\n",
       "<table border=\"1\" class=\"dataframe\">\n",
       "  <thead>\n",
       "    <tr>\n",
       "      <th></th>\n",
       "      <th></th>\n",
       "      <th colspan=\"4\" halign=\"left\">Grouped by actualhospitalmortality</th>\n",
       "    </tr>\n",
       "    <tr>\n",
       "      <th></th>\n",
       "      <th></th>\n",
       "      <th>Missing</th>\n",
       "      <th>Overall</th>\n",
       "      <th>ALIVE</th>\n",
       "      <th>EXPIRED</th>\n",
       "    </tr>\n",
       "  </thead>\n",
       "  <tbody>\n",
       "    <tr>\n",
       "      <th>n</th>\n",
       "      <th></th>\n",
       "      <td></td>\n",
       "      <td>536</td>\n",
       "      <td>488</td>\n",
       "      <td>48</td>\n",
       "    </tr>\n",
       "    <tr>\n",
       "      <th rowspan=\"3\" valign=\"top\">gender, n (%)</th>\n",
       "      <th>Female</th>\n",
       "      <td>0</td>\n",
       "      <td>305 (56.9)</td>\n",
       "      <td>281 (57.6)</td>\n",
       "      <td>24 (50.0)</td>\n",
       "    </tr>\n",
       "    <tr>\n",
       "      <th>Male</th>\n",
       "      <td></td>\n",
       "      <td>230 (42.9)</td>\n",
       "      <td>207 (42.4)</td>\n",
       "      <td>23 (47.9)</td>\n",
       "    </tr>\n",
       "    <tr>\n",
       "      <th>Unknown</th>\n",
       "      <td></td>\n",
       "      <td>1 (0.2)</td>\n",
       "      <td></td>\n",
       "      <td>1 (2.1)</td>\n",
       "    </tr>\n",
       "    <tr>\n",
       "      <th>age, mean (SD)</th>\n",
       "      <th></th>\n",
       "      <td>0</td>\n",
       "      <td>63.4 (17.4)</td>\n",
       "      <td>62.2 (17.4)</td>\n",
       "      <td>75.2 (12.6)</td>\n",
       "    </tr>\n",
       "    <tr>\n",
       "      <th>admissionweight, mean (SD)</th>\n",
       "      <th></th>\n",
       "      <td>16</td>\n",
       "      <td>81.8 (25.0)</td>\n",
       "      <td>82.3 (25.1)</td>\n",
       "      <td>77.0 (23.3)</td>\n",
       "    </tr>\n",
       "    <tr>\n",
       "      <th>length of stay, mean (SD)</th>\n",
       "      <th></th>\n",
       "      <td>0</td>\n",
       "      <td>5.6 (6.8)</td>\n",
       "      <td>5.7 (6.7)</td>\n",
       "      <td>4.3 (7.8)</td>\n",
       "    </tr>\n",
       "    <tr>\n",
       "      <th>acutephysiologyscore, mean (SD)</th>\n",
       "      <th></th>\n",
       "      <td>0</td>\n",
       "      <td>41.7 (22.7)</td>\n",
       "      <td>38.5 (18.8)</td>\n",
       "      <td>74.3 (31.7)</td>\n",
       "    </tr>\n",
       "    <tr>\n",
       "      <th>apachescore, mean (SD)</th>\n",
       "      <th></th>\n",
       "      <td>0</td>\n",
       "      <td>53.6 (25.1)</td>\n",
       "      <td>49.9 (21.1)</td>\n",
       "      <td>91.8 (30.5)</td>\n",
       "    </tr>\n",
       "    <tr>\n",
       "      <th>heartrate, mean (SD)</th>\n",
       "      <th></th>\n",
       "      <td>0</td>\n",
       "      <td>101.5 (32.9)</td>\n",
       "      <td>100.3 (31.9)</td>\n",
       "      <td>113.9 (40.0)</td>\n",
       "    </tr>\n",
       "    <tr>\n",
       "      <th>mean blood pressure, mean (SD)</th>\n",
       "      <th></th>\n",
       "      <td>0</td>\n",
       "      <td>89.6 (41.5)</td>\n",
       "      <td>90.7 (40.7)</td>\n",
       "      <td>78.8 (47.6)</td>\n",
       "    </tr>\n",
       "    <tr>\n",
       "      <th>creatinine, mean (SD)</th>\n",
       "      <th></th>\n",
       "      <td>0</td>\n",
       "      <td>0.8 (2.0)</td>\n",
       "      <td>0.8 (2.0)</td>\n",
       "      <td>1.4 (1.8)</td>\n",
       "    </tr>\n",
       "    <tr>\n",
       "      <th>temperature, mean (SD)</th>\n",
       "      <th></th>\n",
       "      <td>0</td>\n",
       "      <td>35.6 (5.6)</td>\n",
       "      <td>35.9 (4.8)</td>\n",
       "      <td>32.9 (10.4)</td>\n",
       "    </tr>\n",
       "    <tr>\n",
       "      <th>respiratoryrate, mean (SD)</th>\n",
       "      <th></th>\n",
       "      <td>0</td>\n",
       "      <td>27.4 (15.5)</td>\n",
       "      <td>26.8 (15.4)</td>\n",
       "      <td>33.9 (15.2)</td>\n",
       "    </tr>\n",
       "    <tr>\n",
       "      <th>white cell count, mean (SD)</th>\n",
       "      <th></th>\n",
       "      <td>0</td>\n",
       "      <td>6.5 (7.6)</td>\n",
       "      <td>6.2 (7.1)</td>\n",
       "      <td>9.9 (11.2)</td>\n",
       "    </tr>\n",
       "    <tr>\n",
       "      <th>admissionheight, mean (SD)</th>\n",
       "      <th></th>\n",
       "      <td>8</td>\n",
       "      <td>168.4 (14.5)</td>\n",
       "      <td>168.2 (13.6)</td>\n",
       "      <td>170.3 (21.5)</td>\n",
       "    </tr>\n",
       "    <tr>\n",
       "      <th rowspan=\"2\" valign=\"top\">actualhospitalmortality_enc, n (%)</th>\n",
       "      <th>0</th>\n",
       "      <td>0</td>\n",
       "      <td>488 (91.0)</td>\n",
       "      <td>488 (100.0)</td>\n",
       "      <td></td>\n",
       "    </tr>\n",
       "    <tr>\n",
       "      <th>1</th>\n",
       "      <td></td>\n",
       "      <td>48 (9.0)</td>\n",
       "      <td></td>\n",
       "      <td>48 (100.0)</td>\n",
       "    </tr>\n",
       "  </tbody>\n",
       "</table>\n",
       "</div><br />"
      ],
      "text/plain": [
       "                                           Grouped by actualhospitalmortality                                          \n",
       "                                                                      Missing       Overall         ALIVE       EXPIRED\n",
       "n                                                                                       536           488            48\n",
       "gender, n (%)                      Female                                   0    305 (56.9)    281 (57.6)     24 (50.0)\n",
       "                                   Male                                          230 (42.9)    207 (42.4)     23 (47.9)\n",
       "                                   Unknown                                          1 (0.2)                     1 (2.1)\n",
       "age, mean (SD)                                                              0   63.4 (17.4)   62.2 (17.4)   75.2 (12.6)\n",
       "admissionweight, mean (SD)                                                 16   81.8 (25.0)   82.3 (25.1)   77.0 (23.3)\n",
       "length of stay, mean (SD)                                                   0     5.6 (6.8)     5.7 (6.7)     4.3 (7.8)\n",
       "acutephysiologyscore, mean (SD)                                             0   41.7 (22.7)   38.5 (18.8)   74.3 (31.7)\n",
       "apachescore, mean (SD)                                                      0   53.6 (25.1)   49.9 (21.1)   91.8 (30.5)\n",
       "heartrate, mean (SD)                                                        0  101.5 (32.9)  100.3 (31.9)  113.9 (40.0)\n",
       "mean blood pressure, mean (SD)                                              0   89.6 (41.5)   90.7 (40.7)   78.8 (47.6)\n",
       "creatinine, mean (SD)                                                       0     0.8 (2.0)     0.8 (2.0)     1.4 (1.8)\n",
       "temperature, mean (SD)                                                      0    35.6 (5.6)    35.9 (4.8)   32.9 (10.4)\n",
       "respiratoryrate, mean (SD)                                                  0   27.4 (15.5)   26.8 (15.4)   33.9 (15.2)\n",
       "white cell count, mean (SD)                                                 0     6.5 (7.6)     6.2 (7.1)    9.9 (11.2)\n",
       "admissionheight, mean (SD)                                                  8  168.4 (14.5)  168.2 (13.6)  170.3 (21.5)\n",
       "actualhospitalmortality_enc, n (%) 0                                        0    488 (91.0)   488 (100.0)              \n",
       "                                   1                                               48 (9.0)                  48 (100.0)"
      ]
     },
     "execution_count": 26,
     "metadata": {},
     "output_type": "execute_result"
    }
   ],
   "source": [
    "# !pip install tableone\n",
    "from tableone import tableone\n",
    "\n",
    "# rename columns\n",
    "rename = {\"unabridgedhosplos\":\"length of stay\",\n",
    "          \"meanbp\": \"mean blood pressure\",\n",
    "          \"wbc\": \"white cell count\"}\n",
    "\n",
    "# view summary characteristics\n",
    "t1 = tableone(cohort, groupby=\"actualhospitalmortality\", rename=rename)\n",
    "t1\n",
    "\n",
    "# Output to LaTeX\n",
    "# print(t1.tabulate(tablefmt = \"latex\"))"
   ]
  },
  {
   "cell_type": "markdown",
   "id": "859b99a7",
   "metadata": {},
   "source": [
    "### Encoding"
   ]
  },
  {
   "cell_type": "code",
   "execution_count": 4,
   "id": "4ca6b03a",
   "metadata": {},
   "outputs": [
    {
     "name": "stdout",
     "output_type": "stream",
     "text": [
      "gender                      object\n",
      "age                        float64\n",
      "admissionweight            float64\n",
      "unabridgedhosplos          float64\n",
      "acutephysiologyscore         int64\n",
      "apachescore                  int64\n",
      "actualhospitalmortality     object\n",
      "heartrate                  float64\n",
      "meanbp                     float64\n",
      "creatinine                 float64\n",
      "temperature                float64\n",
      "respiratoryrate            float64\n",
      "wbc                        float64\n",
      "admissionheight            float64\n",
      "dtype: object\n"
     ]
    },
    {
     "data": {
      "text/html": [
       "<div>\n",
       "<style scoped>\n",
       "    .dataframe tbody tr th:only-of-type {\n",
       "        vertical-align: middle;\n",
       "    }\n",
       "\n",
       "    .dataframe tbody tr th {\n",
       "        vertical-align: top;\n",
       "    }\n",
       "\n",
       "    .dataframe thead th {\n",
       "        text-align: right;\n",
       "    }\n",
       "</style>\n",
       "<table border=\"1\" class=\"dataframe\">\n",
       "  <thead>\n",
       "    <tr style=\"text-align: right;\">\n",
       "      <th></th>\n",
       "      <th>actualhospitalmortality_enc</th>\n",
       "      <th>actualhospitalmortality</th>\n",
       "    </tr>\n",
       "  </thead>\n",
       "  <tbody>\n",
       "    <tr>\n",
       "      <th>0</th>\n",
       "      <td>0</td>\n",
       "      <td>ALIVE</td>\n",
       "    </tr>\n",
       "    <tr>\n",
       "      <th>1</th>\n",
       "      <td>0</td>\n",
       "      <td>ALIVE</td>\n",
       "    </tr>\n",
       "    <tr>\n",
       "      <th>2</th>\n",
       "      <td>0</td>\n",
       "      <td>ALIVE</td>\n",
       "    </tr>\n",
       "    <tr>\n",
       "      <th>3</th>\n",
       "      <td>1</td>\n",
       "      <td>EXPIRED</td>\n",
       "    </tr>\n",
       "    <tr>\n",
       "      <th>4</th>\n",
       "      <td>1</td>\n",
       "      <td>EXPIRED</td>\n",
       "    </tr>\n",
       "  </tbody>\n",
       "</table>\n",
       "</div>"
      ],
      "text/plain": [
       "   actualhospitalmortality_enc actualhospitalmortality\n",
       "0                            0                   ALIVE\n",
       "1                            0                   ALIVE\n",
       "2                            0                   ALIVE\n",
       "3                            1                 EXPIRED\n",
       "4                            1                 EXPIRED"
      ]
     },
     "execution_count": 4,
     "metadata": {},
     "output_type": "execute_result"
    }
   ],
   "source": [
    "# check current type\n",
    "print(cohort.dtypes)\n",
    "\n",
    "# convert to a categorical type\n",
    "categories=['ALIVE', 'EXPIRED']\n",
    "cohort['actualhospitalmortality']  = pd.Categorical(cohort['actualhospitalmortality'], categories=categories)\n",
    "\n",
    "# add the encoded value to a new column\n",
    "cohort['actualhospitalmortality_enc'] = cohort['actualhospitalmortality'].cat.codes\n",
    "cohort[['actualhospitalmortality_enc','actualhospitalmortality']].head()"
   ]
  },
  {
   "cell_type": "code",
   "execution_count": 5,
   "id": "1fd36d72",
   "metadata": {},
   "outputs": [],
   "source": [
    "# convert to a categorical type\n",
    "cohort['gender'] = pd.Categorical(cohort['gender'])\n",
    "cohort['gender'] = cohort['gender'].cat.codes"
   ]
  },
  {
   "cell_type": "markdown",
   "id": "20c7c8f9",
   "metadata": {},
   "source": [
    "### Partitioning"
   ]
  },
  {
   "cell_type": "code",
   "execution_count": 6,
   "id": "58791381",
   "metadata": {},
   "outputs": [],
   "source": [
    "from sklearn.model_selection import train_test_split\n",
    "\n",
    "x = cohort.drop('actualhospitalmortality', axis=1)\n",
    "y = cohort['actualhospitalmortality']\n",
    "x_train, x_test, y_train, y_test = train_test_split(x, y, train_size = 0.7, random_state = 42)"
   ]
  },
  {
   "cell_type": "markdown",
   "id": "20f23144",
   "metadata": {},
   "source": [
    "### Missing data"
   ]
  },
  {
   "cell_type": "code",
   "execution_count": 7,
   "id": "a30b9161",
   "metadata": {},
   "outputs": [],
   "source": [
    "# impute missing values from the training set\n",
    "x_train = x_train.fillna(x_train.median())\n",
    "x_test = x_test.fillna(x_train.median())"
   ]
  },
  {
   "cell_type": "markdown",
   "id": "57508798",
   "metadata": {},
   "source": [
    "### Normalisation"
   ]
  },
  {
   "cell_type": "code",
   "execution_count": 8,
   "id": "8ff2561e",
   "metadata": {},
   "outputs": [],
   "source": [
    "# Define the scaler\n",
    "from sklearn.preprocessing import MinMaxScaler\n",
    "scaler = MinMaxScaler()\n",
    "\n",
    "# Alternative is zero mean, unit variance\n",
    "# Subtract mean, divide by standard deviation\n",
    "# from sklearn.preprocessing import StandardScaler\n",
    "\n",
    "# fit the scaler on the training dataset\n",
    "scaler.fit(x_train)\n",
    "\n",
    "# scale the training set\n",
    "x_train = scaler.transform(x_train)\n",
    "\n",
    "# scale the test set\n",
    "x_test = scaler.transform(x_test)"
   ]
  },
  {
   "cell_type": "markdown",
   "id": "ca9e033d",
   "metadata": {},
   "source": [
    "## Learning"
   ]
  },
  {
   "cell_type": "markdown",
   "id": "bb2daae2",
   "metadata": {},
   "source": [
    "### Loss function"
   ]
  },
  {
   "cell_type": "code",
   "execution_count": 9,
   "id": "de11be75",
   "metadata": {},
   "outputs": [
    {
     "data": {
      "text/plain": [
       "Text(0.5, 1.0, 'Prediction error')"
      ]
     },
     "execution_count": 9,
     "metadata": {},
     "output_type": "execute_result"
    },
    {
     "data": {
      "image/png": "[encoded data removed]",
      "text/plain": [
       "<Figure size 640x480 with 1 Axes>"
      ]
     },
     "metadata": {},
     "output_type": "display_data"
    }
   ],
   "source": [
    "import pandas as pd\n",
    "import matplotlib\n",
    "\n",
    "# Create sample labelled data\n",
    "data = {'x': [1, 2, 3, 4, 5], 'y': [-0.5, 1, 2, 4, 7]}\n",
    "df = pd.DataFrame(data)\n",
    "\n",
    "# Add predictions\n",
    "df['y_hat'] = [0, 2, 4, 6, 8]\n",
    "\n",
    "# plot the data\n",
    "ax = df.plot(x='x', y='y', kind='scatter', xlim=[0,6], ylim=[-1,9])\n",
    "\n",
    "# plot approx line of best fit\n",
    "ax.plot(df['x'], df['y_hat'], color='blue');\n",
    "\n",
    "# plot error\n",
    "ax.vlines(x=df['x'], ymin=df['y'], ymax=df['y_hat'], color='red', linestyle='dashed')\n",
    "ax.text(x=3.1, y=3, s='Error')\n",
    "ax.set_title('Prediction error')"
   ]
  },
  {
   "cell_type": "code",
   "execution_count": 10,
   "id": "e1508d36",
   "metadata": {},
   "outputs": [],
   "source": [
    "import numpy as np\n",
    "\n",
    "def loss(y, y_hat):\n",
    "    \"\"\"\n",
    "    Loss function (mean squared error).\n",
    "\n",
    "    Args:\n",
    "        y (numpy array): The known target values.\n",
    "        y_hat (numpy array): The predicted values.\n",
    "\n",
    "    Returns:\n",
    "        numpy float: The mean squared error.\n",
    "    \"\"\"\n",
    "    distances = y - y_hat\n",
    "    squared_distances = np.square(distances)\n",
    "    return np.mean(squared_distances)\n"
   ]
  },
  {
   "cell_type": "markdown",
   "id": "ff7b7acb",
   "metadata": {},
   "source": [
    "### Minimising the error"
   ]
  },
  {
   "cell_type": "code",
   "execution_count": 11,
   "id": "a6727648",
   "metadata": {},
   "outputs": [
    {
     "data": {
      "text/plain": [
       "Text(0, 0.5, 'Loss (squared error)')"
      ]
     },
     "execution_count": 11,
     "metadata": {},
     "output_type": "execute_result"
    },
    {
     "data": {
      "image/png": "[encoded data removed]",
      "text/plain": [
       "<Figure size 640x480 with 1 Axes>"
      ]
     },
     "metadata": {},
     "output_type": "display_data"
    }
   ],
   "source": [
    "import matplotlib.pyplot as plt\n",
    "\n",
    "x = np.arange(-50, 50, 0.05)\n",
    "y = np.square(x)\n",
    "\n",
    "plt.plot(x, y)\n",
    "plt.xlabel('Difference between y and y_hat')\n",
    "plt.ylabel('Loss (squared error)')\n"
   ]
  },
  {
   "cell_type": "markdown",
   "id": "c2485515",
   "metadata": {},
   "source": [
    "## Modelling"
   ]
  },
  {
   "cell_type": "markdown",
   "id": "b846a4ce",
   "metadata": {},
   "source": [
    "### Regression vs classification"
   ]
  },
  {
   "cell_type": "code",
   "execution_count": 12,
   "id": "58b533fa",
   "metadata": {},
   "outputs": [
    {
     "data": {
      "image/png": "[encoded data removed]",
      "text/plain": [
       "<Figure size 640x480 with 1 Axes>"
      ]
     },
     "metadata": {},
     "output_type": "display_data"
    }
   ],
   "source": [
    "# import the regression model\n",
    "import numpy as np\n",
    "from matplotlib import pyplot as plt\n",
    "from sklearn.linear_model import LinearRegression\n",
    "reg = LinearRegression()\n",
    "\n",
    "# use a single feature (apache score)\n",
    "# note: remove the reshape if fitting to >1 input variable\n",
    "X = cohort.apachescore.values.reshape(-1, 1)\n",
    "y = cohort.actualhospitalmortality_enc.values\n",
    "\n",
    "# fit the model to our data\n",
    "reg = reg.fit(X, y)\n",
    "\n",
    "# get the y values\n",
    "buffer = 0.2*max(X)\n",
    "X_fit = np.linspace(min(X) - buffer, max(X) + buffer, num=50)\n",
    "y_fit = reg.predict(X_fit)\n",
    "\n",
    "# plot\n",
    "plt.scatter(X, y,  color='black', marker = 'x')\n",
    "plt.plot(X_fit, y_fit, color='red', linewidth=2)\n",
    "plt.show()"
   ]
  },
  {
   "cell_type": "markdown",
   "id": "1ea566d8",
   "metadata": {},
   "source": [
    "### Sigmoid function"
   ]
  },
  {
   "cell_type": "markdown",
   "id": "8a698ef2",
   "metadata": {},
   "source": [
    "$$f(x) = \\frac{1}{(1 +e^{-x})}$$"
   ]
  },
  {
   "cell_type": "code",
   "execution_count": 13,
   "id": "53c7a202",
   "metadata": {},
   "outputs": [
    {
     "data": {
      "image/png": "[encoded data removed]",
      "text/plain": [
       "<Figure size 640x480 with 1 Axes>"
      ]
     },
     "metadata": {},
     "output_type": "display_data"
    }
   ],
   "source": [
    "def sigmoid(x, k=0.1):\n",
    "    \"\"\"\n",
    "    Sigmoid function. \n",
    "    Adjust k to set slope.\n",
    "    \"\"\"\n",
    "    s = 1 / (1 + np.exp(-x / k)) \n",
    "    return s\n",
    "\n",
    "# set range of values for x\n",
    "x = np.linspace(-1, 1, 50)\n",
    "\n",
    "plt.plot(x, sigmoid(x))\n",
    "plt.show()"
   ]
  },
  {
   "cell_type": "markdown",
   "id": "b9531138",
   "metadata": {},
   "source": [
    "### Training (or fitting) the model"
   ]
  },
  {
   "cell_type": "code",
   "execution_count": 14,
   "id": "d59e1b76",
   "metadata": {},
   "outputs": [
    {
     "data": {
      "image/png": "[encoded data removed]",
      "text/plain": [
       "<Figure size 640x480 with 1 Axes>"
      ]
     },
     "metadata": {},
     "output_type": "display_data"
    }
   ],
   "source": [
    "import numpy as np\n",
    "from matplotlib import pyplot as plt\n",
    "from sklearn.linear_model import LogisticRegression\n",
    "\n",
    "reg = LogisticRegression()\n",
    "\n",
    "# use a single feature (apache score)\n",
    "# note: remove the reshape if fitting to >1 input variable\n",
    "X = cohort.apachescore.values.reshape(-1, 1)\n",
    "y = cohort.actualhospitalmortality_enc.values\n",
    "\n",
    "# fit the model to our data\n",
    "reg = reg.fit(X, y)\n",
    "\n",
    "# get the y values\n",
    "buffer = 0.2*max(X)\n",
    "X_fit = np.linspace(min(X) - buffer, max(X) + buffer, num=50)\n",
    "y_fit = reg.predict(X_fit)\n",
    "\n",
    "# plot\n",
    "plt.scatter(X, y,  color='black', marker = 'x')\n",
    "plt.plot(X_fit, y_fit, color='red', linewidth=2)\n",
    "plt.show()"
   ]
  },
  {
   "cell_type": "markdown",
   "id": "a69d8eee",
   "metadata": {},
   "source": [
    "### Decision boundary"
   ]
  },
  {
   "cell_type": "code",
   "execution_count": 15,
   "id": "b16f905e",
   "metadata": {},
   "outputs": [
    {
     "name": "stdout",
     "output_type": "stream",
     "text": [
      "For x=90, we predict an outcome of \"0\".\n",
      "Class probabilities (0, 1): (0.77, 0.23).\n"
     ]
    }
   ],
   "source": [
    "x = [[90]]\n",
    "outcome = reg.predict(x)\n",
    "probs = reg.predict_proba(x)[0]\n",
    "print(f'For x={x[0][0]}, we predict an outcome of \"{outcome[0]}\".\\n'\n",
    "      f'Class probabilities (0, 1): {round(probs[0],2), round(probs[1],2)}.')"
   ]
  },
  {
   "cell_type": "markdown",
   "id": "819803ad",
   "metadata": {},
   "source": [
    "## Validation"
   ]
  },
  {
   "cell_type": "markdown",
   "id": "b3e08906",
   "metadata": {},
   "source": [
    "$$Accuracy = \\frac{Correct predictions}{All predictions}$$"
   ]
  },
  {
   "cell_type": "code",
   "execution_count": 16,
   "id": "c5f56830",
   "metadata": {},
   "outputs": [
    {
     "name": "stdout",
     "output_type": "stream",
     "text": [
      "Accuracy on training set: 0.86\n",
      "Accuracy on test set: 0.82\n"
     ]
    }
   ],
   "source": [
    "from sklearn.linear_model import LogisticRegression\n",
    "from sklearn.model_selection import train_test_split\n",
    "\n",
    "# convert outcome to a categorical type\n",
    "categories=['ALIVE', 'EXPIRED']\n",
    "cohort['actualhospitalmortality'] = pd.Categorical(cohort['actualhospitalmortality'], categories=categories)\n",
    "\n",
    "# add the encoded value to a new column\n",
    "cohort['actualhospitalmortality_enc'] = cohort['actualhospitalmortality'].cat.codes\n",
    "cohort[['actualhospitalmortality_enc','actualhospitalmortality']].head()\n",
    "\n",
    "# define features and outcome\n",
    "features = ['apachescore']\n",
    "outcome = ['actualhospitalmortality_enc']\n",
    "\n",
    "# partition data into training and test sets\n",
    "X = cohort[features]\n",
    "y = cohort[outcome]\n",
    "x_train, x_test, y_train, y_test = train_test_split(X, y, train_size = 0.7, random_state = 42)\n",
    "\n",
    "# restructure data for input into model\n",
    "# note: remove the reshape if fitting to >1 input variable\n",
    "x_train = x_train.values.reshape(-1, 1)\n",
    "y_train = y_train.values.ravel()\n",
    "x_test = x_test.values.reshape(-1, 1)\n",
    "y_test = y_test.values.ravel()\n",
    "\n",
    "# train model\n",
    "reg = LogisticRegression(random_state=0)\n",
    "reg.fit(x_train, y_train)\n",
    "\n",
    "# generate predictions\n",
    "y_hat_train = reg.predict(x_train)\n",
    "y_hat_test = reg.predict(x_test)\n",
    "\n",
    "#  accuracy on training set\n",
    "acc_train = np.mean(y_hat_train == y_train)\n",
    "print(f'Accuracy on training set: {acc_train:.2f}')\n",
    "\n",
    "#  accuracy on test set\n",
    "acc_test = np.mean(y_hat_test == y_test)\n",
    "print(f'Accuracy on test set: {acc_test:.2f}')"
   ]
  },
  {
   "cell_type": "markdown",
   "id": "b2895fd6",
   "metadata": {},
   "source": [
    "### K-fold cross validation"
   ]
  },
  {
   "cell_type": "code",
   "execution_count": 17,
   "id": "70c19d82",
   "metadata": {},
   "outputs": [
    {
     "name": "stdout",
     "output_type": "stream",
     "text": [
      "Cross-validation accuracy, mean (std): 81.53 (3.31)\n"
     ]
    }
   ],
   "source": [
    "from numpy import mean, std\n",
    "from sklearn.model_selection import cross_val_score, RepeatedStratifiedKFold\n",
    "from sklearn.preprocessing import MinMaxScaler\n",
    "from sklearn.pipeline import Pipeline\n",
    "\n",
    "# define dataset\n",
    "X = x_train\n",
    "y = y_train\n",
    "\n",
    "# define the pipeline\n",
    "steps = list()\n",
    "steps.append(('scaler', MinMaxScaler()))\n",
    "steps.append(('model', LogisticRegression()))\n",
    "pipeline = Pipeline(steps=steps)\n",
    "\n",
    "# define the evaluation procedure\n",
    "cv = RepeatedStratifiedKFold(n_splits=5, n_repeats=3, random_state=1)\n",
    "\n",
    "# evaluate the model using cross-validation\n",
    "scores = cross_val_score(pipeline, X, y, scoring='accuracy', cv=cv, n_jobs=-1)\n",
    "\n",
    "# report performance\n",
    "print('Cross-validation accuracy, mean (std): %.2f (%.2f)' % (mean(scores)*100, std(scores)*100))"
   ]
  },
  {
   "cell_type": "markdown",
   "id": "30647556",
   "metadata": {},
   "source": [
    "## Evaluation"
   ]
  },
  {
   "cell_type": "markdown",
   "id": "9baa7e38",
   "metadata": {},
   "source": [
    "### Evaluating a classification task"
   ]
  },
  {
   "cell_type": "code",
   "execution_count": 18,
   "id": "b9188702",
   "metadata": {},
   "outputs": [],
   "source": [
    "from sklearn.linear_model import LogisticRegression\n",
    "from sklearn.model_selection import train_test_split\n",
    "\n",
    "# convert outcome to a categorical type\n",
    "categories=['ALIVE', 'EXPIRED']\n",
    "cohort['actualhospitalmortality'] = pd.Categorical(cohort['actualhospitalmortality'], categories=categories)\n",
    "\n",
    "# add the encoded value to a new column\n",
    "cohort['actualhospitalmortality_enc'] = cohort['actualhospitalmortality'].cat.codes\n",
    "cohort[['actualhospitalmortality_enc','actualhospitalmortality']].head()\n",
    "\n",
    "# define features and outcome\n",
    "features = ['apachescore']\n",
    "outcome = ['actualhospitalmortality_enc']\n",
    "\n",
    "# partition data into training and test sets\n",
    "X = cohort[features]\n",
    "y = cohort[outcome]\n",
    "x_train, x_test, y_train, y_test = train_test_split(X, y, train_size = 0.7, random_state =  42)\n",
    "\n",
    "# restructure data for input into model\n",
    "# note: remove the reshape if fitting to >1 input variable\n",
    "x_train = x_train.values.reshape(-1, 1)\n",
    "y_train = y_train.values.ravel()\n",
    "x_test = x_test.values.reshape(-1, 1)\n",
    "y_test = y_test.values.ravel()\n",
    "\n",
    "# train model\n",
    "reg = LogisticRegression(random_state=0)\n",
    "reg.fit(x_train, y_train)\n",
    "\n",
    "# generate predictions\n",
    "y_hat_test = reg.predict(x_test)\n",
    "y_hat_test_proba = reg.predict_proba(x_test)"
   ]
  },
  {
   "cell_type": "code",
   "execution_count": 19,
   "id": "c57cd5f6",
   "metadata": {},
   "outputs": [
    {
     "name": "stdout",
     "output_type": "stream",
     "text": [
      "[0.09, 0.11, 0.23, 0.21, 0.23, 0.21, 0.19, 0.03, 0.2, 0.67, 0.54, 0.72]\n"
     ]
    }
   ],
   "source": [
    "probs = y_hat_test_proba[:,1][:12]\n",
    "rounded_probs = [round(x,2) for x in probs]\n",
    "print(rounded_probs)"
   ]
  },
  {
   "cell_type": "code",
   "execution_count": 20,
   "id": "04ea352d",
   "metadata": {
    "scrolled": true
   },
   "outputs": [
    {
     "name": "stdout",
     "output_type": "stream",
     "text": [
      "[0 0 0 0 0 0 0 0 0 1 1 1]\n"
     ]
    }
   ],
   "source": [
    "print(y_hat_test[:12])"
   ]
  },
  {
   "cell_type": "markdown",
   "id": "0edd4b75",
   "metadata": {},
   "source": [
    "### Confusion matrices"
   ]
  },
  {
   "cell_type": "code",
   "execution_count": 26,
   "id": "9078dab4",
   "metadata": {},
   "outputs": [
    {
     "data": {
      "image/png": "[encoded data removed]",
      "text/plain": [
       "<Figure size 640x480 with 2 Axes>"
      ]
     },
     "metadata": {},
     "output_type": "display_data"
    }
   ],
   "source": [
    "# import the metrics class\n",
    "from sklearn import metrics\n",
    "\n",
    "confusion = metrics.confusion_matrix(y_test, y_hat_test)\n",
    "\n",
    "class_names=cohort['actualhospitalmortality'].cat.categories\n",
    "disp = metrics.ConfusionMatrixDisplay.from_estimator(\n",
    "    reg, x_test, y_test, display_labels=class_names,\n",
    "    cmap=plt.cm.Blues)\n",
    "\n",
    "plt.show()\n"
   ]
  },
  {
   "cell_type": "markdown",
   "id": "a57f8124",
   "metadata": {},
   "source": [
    "### Accuracy"
   ]
  },
  {
   "cell_type": "markdown",
   "id": "4e882039",
   "metadata": {},
   "source": [
    "$$ Accuracy=\\frac{TP+TN}{TP+TN+FP+FN} $$"
   ]
  },
  {
   "cell_type": "code",
   "execution_count": 22,
   "id": "fc61f2ad",
   "metadata": {},
   "outputs": [
    {
     "name": "stdout",
     "output_type": "stream",
     "text": [
      "Accuracy (model) = 0.82\n"
     ]
    }
   ],
   "source": [
    "acc = metrics.accuracy_score(y_test, y_hat_test)\n",
    "print(f\"Accuracy (model) = {acc:.2f}\")"
   ]
  },
  {
   "cell_type": "code",
   "execution_count": 23,
   "id": "cd5a7d2f",
   "metadata": {},
   "outputs": [
    {
     "name": "stdout",
     "output_type": "stream",
     "text": [
      "Accuracy (zeros) = 0.92\n"
     ]
    }
   ],
   "source": [
    "zeros = np.zeros(len(y_test))\n",
    "acc = metrics.accuracy_score(y_test, zeros)\n",
    "print(f\"Accuracy (zeros) = {acc:.2f}\")"
   ]
  },
  {
   "cell_type": "markdown",
   "id": "f43424a8",
   "metadata": {},
   "source": [
    "### Sensitivity (A.K.A “Recall” and “True Positive Rate”)"
   ]
  },
  {
   "cell_type": "markdown",
   "id": "0a916b91-df4e-4f7b-a3f7-9a7b1d0f7489",
   "metadata": {},
   "source": [
    "$$ Sensitivity=Recall=\\frac{TP}{TP+FN} $$"
   ]
  },
  {
   "cell_type": "markdown",
   "id": "3440bdfb-c3dd-4a54-b22e-4b545ff5ffd2",
   "metadata": {},
   "source": [
    "### Specificity (A.K.A “True Negative Rate”)"
   ]
  },
  {
   "cell_type": "markdown",
   "id": "3a5f8d85-60e6-428f-b92b-0ef7c1006db2",
   "metadata": {},
   "source": [
    "$$ Specificity=\\frac{TN}{FP+TN} $$"
   ]
  },
  {
   "cell_type": "markdown",
   "id": "23f829b5-ae22-4c85-826e-d1c5f75f6b58",
   "metadata": {},
   "source": [
    "### Receiver-Operator Characteristic"
   ]
  },
  {
   "cell_type": "code",
   "execution_count": 33,
   "id": "4be35841-7aa3-4c9c-8e0d-b565f9e0643b",
   "metadata": {},
   "outputs": [
    {
     "data": {
      "text/plain": [
       "<sklearn.metrics._plot.roc_curve.RocCurveDisplay at 0x1a5bce010>"
      ]
     },
     "execution_count": 33,
     "metadata": {},
     "output_type": "execute_result"
    },
    {
     "data": {
      "image/png": "[encoded data removed]",
      "text/plain": [
       "<Figure size 640x480 with 1 Axes>"
      ]
     },
     "metadata": {},
     "output_type": "display_data"
    }
   ],
   "source": [
    "# metrics.plot_roc_curve(reg, x_test, y_test)\n",
    "metrics.RocCurveDisplay.from_estimator(reg, x_test, y_test)\n"
   ]
  },
  {
   "cell_type": "markdown",
   "id": "2623daaa-7f82-41ca-b4a1-d2334005b35f",
   "metadata": {},
   "source": [
    "## Bootstrapping"
   ]
  },
  {
   "cell_type": "markdown",
   "id": "f3d5debe-c9be-44da-b0cd-eb8ed9b314c0",
   "metadata": {},
   "source": [
    "### Bootstraping"
   ]
  },
  {
   "cell_type": "code",
   "execution_count": 34,
   "id": "8b028d20-9279-465d-9318-d69641587a6b",
   "metadata": {},
   "outputs": [],
   "source": [
    "import matplotlib.pyplot as plt\n",
    "from sklearn.linear_model import LogisticRegression\n",
    "from sklearn.model_selection import train_test_split\n",
    "from sklearn.utils import resample\n",
    "from sklearn.metrics import accuracy_score\n",
    "\n",
    "# convert outcome to a categorical type\n",
    "categories=['ALIVE', 'EXPIRED']\n",
    "cohort['actualhospitalmortality'] = pd.Categorical(cohort['actualhospitalmortality'], categories=categories)\n",
    "\n",
    "# add the encoded value to a new column\n",
    "cohort['actualhospitalmortality_enc'] = cohort['actualhospitalmortality'].cat.codes\n",
    "cohort[['actualhospitalmortality_enc','actualhospitalmortality']].head()\n",
    "\n",
    "# define features and outcome\n",
    "features = ['apachescore']\n",
    "outcome = ['actualhospitalmortality_enc']\n",
    "\n",
    "# partition data into training and test sets\n",
    "X = cohort[features]\n",
    "y = cohort[outcome]\n",
    "x_train, x_test, y_train, y_test = train_test_split(X, y, train_size = 0.7, random_state = 42)\n",
    "\n",
    "# restructure data for input into model\n",
    "# note: remove the reshape if fitting to >1 input variable\n",
    "x_train = x_train.values.reshape(-1, 1)\n",
    "y_train = y_train.values.ravel()\n",
    "x_test = x_test.values.reshape(-1, 1)\n",
    "y_test = y_test.values.ravel()\n",
    "\n",
    "# train model\n",
    "reg = LogisticRegression(random_state=0)\n",
    "reg.fit(x_train, y_train)\n",
    "\n",
    "# bootstrap predictions\n",
    "accuracy = []\n",
    "n_iterations = 1000\n",
    "for i in range(n_iterations):\n",
    "    X_bs, y_bs = resample(x_train, y_train, replace=True)\n",
    "    # make predictions\n",
    "    y_hat = reg.predict(X_bs)\n",
    "    # evaluate model\n",
    "    score = accuracy_score(y_bs, y_hat)\n",
    "    accuracy.append(score)"
   ]
  },
  {
   "cell_type": "code",
   "execution_count": 35,
   "id": "b5b1409f-c0c2-4e03-9df6-14d0d541ec0d",
   "metadata": {},
   "outputs": [
    {
     "data": {
      "image/png": "[encoded data removed]",
      "text/plain": [
       "<Figure size 640x480 with 1 Axes>"
      ]
     },
     "metadata": {},
     "output_type": "display_data"
    }
   ],
   "source": [
    "import seaborn as sns\n",
    "# plot distribution of accuracy\n",
    "sns.kdeplot(accuracy)\n",
    "plt.title(\"Accuracy across 1000 bootstrap samples of the held-out test set\")\n",
    "plt.xlabel(\"Accuracy\")\n",
    "plt.show()"
   ]
  },
  {
   "cell_type": "markdown",
   "id": "776a2038-a66e-4847-b7e0-a067ad3e98d9",
   "metadata": {},
   "source": [
    "### Percentile method"
   ]
  },
  {
   "cell_type": "code",
   "execution_count": 36,
   "id": "be608286-7553-41b8-bf67-60a9f3da7a31",
   "metadata": {},
   "outputs": [
    {
     "name": "stdout",
     "output_type": "stream",
     "text": [
      "Model accuracy is reported on the test set. 1000 bootstrapped samples were used to calculate 95% confidence intervals.\n",
      "Median accuracy is 0.86 with a 95% a confidence interval of [0.80,0.91].\n"
     ]
    }
   ],
   "source": [
    "# get median\n",
    "median = np.percentile(accuracy, 50)\n",
    "\n",
    "# get 95% interval\n",
    "alpha = 100-95\n",
    "lower_ci = np.percentile(accuracy, alpha/2)\n",
    "upper_ci = np.percentile(accuracy, 100-alpha/2)\n",
    "\n",
    "print(f\"Model accuracy is reported on the test set. 1000 bootstrapped samples \" \n",
    "      f\"were used to calculate 95% confidence intervals.\\n\"\n",
    "      f\"Median accuracy is {median:.2f} with a 95% a confidence \"\n",
    "      f\"interval of [{lower_ci:.2f},{upper_ci:.2f}].\")"
   ]
  },
  {
   "cell_type": "code",
   "execution_count": 37,
   "id": "18a041bf-3077-44c5-a9ec-064c614e8397",
   "metadata": {},
   "outputs": [
    {
     "data": {
      "image/png": "[encoded data removed]",
      "text/plain": [
       "<Figure size 640x480 with 1 Axes>"
      ]
     },
     "metadata": {},
     "output_type": "display_data"
    }
   ],
   "source": [
    "sns.kdeplot(accuracy)\n",
    "plt.title(\"Accuracy across 1000 bootstrap samples of the held-out test set\\n\"\n",
    "          \"showing median with 95\\\\% confidence intervals\")\n",
    "plt.xlabel(\"Accuracy\")\n",
    "plt.axvline(median,0, 14, linestyle=\"--\", color=\"red\")\n",
    "plt.axvline(lower_ci,0, 14, linestyle=\"--\", color=\"red\")\n",
    "plt.axvline(upper_ci,0, 14, linestyle=\"--\", color=\"red\")\n",
    "plt.show()"
   ]
  },
  {
   "cell_type": "markdown",
   "id": "23e6d6af-80a8-4f4a-bc2f-a6732c5a93ec",
   "metadata": {},
   "source": [
    "## Data leakage"
   ]
  },
  {
   "cell_type": "markdown",
   "id": "3e433bc8-effa-46da-90ad-49a8e8af3cbc",
   "metadata": {},
   "source": [
    "All text"
   ]
  },
  {
   "cell_type": "markdown",
   "id": "cd83ea6a-ebe7-4ee9-b6dd-1f0c1c346317",
   "metadata": {},
   "source": [
    "# Responsible machine learning"
   ]
  },
  {
   "cell_type": "markdown",
   "id": "14979a2e-8ef0-44e7-a73d-f0f557fcb782",
   "metadata": {},
   "source": [
    "Course notes are [here](https://carpentries-incubator.github.io/machine-learning-responsible-python/)."
   ]
  },
  {
   "cell_type": "markdown",
   "id": "f386c10a-8b84-4056-85be-30bd0465effe",
   "metadata": {},
   "source": [
    "### Setup"
   ]
  },
  {
   "cell_type": "markdown",
   "id": "2da1515c-55f0-4546-884b-4f8382d76e41",
   "metadata": {},
   "source": [
    "This will have to be done as it is not included in this repository\n",
    "\n",
    "1. Create a subfolder called data.\n",
    "2. Download eicu_v2_0_1.sqlite3.gz from the Files section of the [project page](https://physionet.org/content/eicu-crd-demo/2.0.1/) (you have to click in the sqlite directory).\n",
    "3. Move the downloaded file to ml-responsible/data.\n",
    "4. Unzip the file."
   ]
  },
  {
   "cell_type": "markdown",
   "id": "c6982ead-e3a9-40fa-a5fc-d33d111092bc",
   "metadata": {},
   "source": [
    "### Introduction"
   ]
  },
  {
   "cell_type": "markdown",
   "id": "f7ba8617-cd72-49db-a58f-3669e4528211",
   "metadata": {},
   "source": [
    "eICU Collaborative Research Database Demo was derived from:\n",
    "[eICU Collaborative Research Database v2.0](https://physionet.org/content/eicu-crd/2.0/).\n",
    "\n",
    "The Alan Turing Institute [Understanding artificial intelligence ethics and safety](https://www.turing.ac.uk/sites/default/files/2019-08/understanding_artificial_intelligence_ethics_and_safety.pdf) document (97 pages).\n",
    "\n",
    "An [ACM 2018 statement](https://web.archive.org/web/20200101022756/https://acm-fca.org/2018/03/29/negativeimpacts/) also given as arxiv [paper](https://arxiv.org/pdf/2112.09544.pdf)."
   ]
  },
  {
   "cell_type": "markdown",
   "id": "9670410e-f68f-4f51-8ba7-cad7a1925881",
   "metadata": {},
   "source": [
    "# Tree models"
   ]
  },
  {
   "cell_type": "markdown",
   "id": "f9a8846f-f02e-4d1d-8de6-206cd80f1aba",
   "metadata": {},
   "source": [
    "Course notes are [here](https://carpentries-incubator.github.io/machine-learning-trees-python/)."
   ]
  },
  {
   "cell_type": "markdown",
   "id": "bdfb3ddc-1e37-4287-b204-6518ea3f8c67",
   "metadata": {},
   "source": [
    "### Setup"
   ]
  },
  {
   "cell_type": "markdown",
   "id": "c16c9a79-e4ed-4a3c-ae79-f6e3b2b56eb1",
   "metadata": {},
   "source": [
    "Download the [eicu_cohort_trees.csv](https://carpentries-incubator.github.io/machine-learning-trees-python/data/eicu_cohort_trees.csv) file and place with the other data files.\n"
   ]
  },
  {
   "cell_type": "markdown",
   "id": "0ac92fa3-9a79-42fa-9ecf-a24bf45cae61",
   "metadata": {},
   "source": [
    "### Loading the patient cohort"
   ]
  },
  {
   "cell_type": "code",
   "execution_count": 2,
   "id": "e9455f02-ab2b-43fd-ba24-ba95e08b7cd3",
   "metadata": {
    "scrolled": true
   },
   "outputs": [
    {
     "data": {
      "text/html": [
       "<div>\n",
       "<style scoped>\n",
       "    .dataframe tbody tr th:only-of-type {\n",
       "        vertical-align: middle;\n",
       "    }\n",
       "\n",
       "    .dataframe tbody tr th {\n",
       "        vertical-align: top;\n",
       "    }\n",
       "\n",
       "    .dataframe thead th {\n",
       "        text-align: right;\n",
       "    }\n",
       "</style>\n",
       "<table border=\"1\" class=\"dataframe\">\n",
       "  <thead>\n",
       "    <tr style=\"text-align: right;\">\n",
       "      <th></th>\n",
       "      <th>gender</th>\n",
       "      <th>age</th>\n",
       "      <th>admissionweight</th>\n",
       "      <th>unabridgedhosplos</th>\n",
       "      <th>acutephysiologyscore</th>\n",
       "      <th>apachescore</th>\n",
       "      <th>actualhospitalmortality</th>\n",
       "      <th>heartrate</th>\n",
       "      <th>meanbp</th>\n",
       "      <th>creatinine</th>\n",
       "      <th>temperature</th>\n",
       "      <th>respiratoryrate</th>\n",
       "      <th>wbc</th>\n",
       "      <th>admissionheight</th>\n",
       "    </tr>\n",
       "  </thead>\n",
       "  <tbody>\n",
       "    <tr>\n",
       "      <th>0</th>\n",
       "      <td>Female</td>\n",
       "      <td>48</td>\n",
       "      <td>86.4</td>\n",
       "      <td>27.5583</td>\n",
       "      <td>44</td>\n",
       "      <td>49</td>\n",
       "      <td>ALIVE</td>\n",
       "      <td>102.0</td>\n",
       "      <td>54.0</td>\n",
       "      <td>1.16</td>\n",
       "      <td>36.9</td>\n",
       "      <td>39.0</td>\n",
       "      <td>6.1</td>\n",
       "      <td>177.8</td>\n",
       "    </tr>\n",
       "    <tr>\n",
       "      <th>1</th>\n",
       "      <td>Female</td>\n",
       "      <td>59</td>\n",
       "      <td>66.6</td>\n",
       "      <td>15.0778</td>\n",
       "      <td>56</td>\n",
       "      <td>61</td>\n",
       "      <td>ALIVE</td>\n",
       "      <td>134.0</td>\n",
       "      <td>172.0</td>\n",
       "      <td>1.03</td>\n",
       "      <td>34.8</td>\n",
       "      <td>32.0</td>\n",
       "      <td>25.5</td>\n",
       "      <td>170.2</td>\n",
       "    </tr>\n",
       "    <tr>\n",
       "      <th>2</th>\n",
       "      <td>Male</td>\n",
       "      <td>31</td>\n",
       "      <td>66.8</td>\n",
       "      <td>2.7326</td>\n",
       "      <td>45</td>\n",
       "      <td>45</td>\n",
       "      <td>ALIVE</td>\n",
       "      <td>138.0</td>\n",
       "      <td>71.0</td>\n",
       "      <td>2.35</td>\n",
       "      <td>37.2</td>\n",
       "      <td>34.0</td>\n",
       "      <td>21.4</td>\n",
       "      <td>188.0</td>\n",
       "    </tr>\n",
       "    <tr>\n",
       "      <th>3</th>\n",
       "      <td>Female</td>\n",
       "      <td>51</td>\n",
       "      <td>77.1</td>\n",
       "      <td>0.1986</td>\n",
       "      <td>19</td>\n",
       "      <td>24</td>\n",
       "      <td>ALIVE</td>\n",
       "      <td>122.0</td>\n",
       "      <td>73.0</td>\n",
       "      <td>-1.00</td>\n",
       "      <td>36.8</td>\n",
       "      <td>26.0</td>\n",
       "      <td>-1.0</td>\n",
       "      <td>160.0</td>\n",
       "    </tr>\n",
       "    <tr>\n",
       "      <th>4</th>\n",
       "      <td>Female</td>\n",
       "      <td>48</td>\n",
       "      <td>63.4</td>\n",
       "      <td>1.7285</td>\n",
       "      <td>25</td>\n",
       "      <td>30</td>\n",
       "      <td>ALIVE</td>\n",
       "      <td>130.0</td>\n",
       "      <td>68.0</td>\n",
       "      <td>1.10</td>\n",
       "      <td>-1.0</td>\n",
       "      <td>29.0</td>\n",
       "      <td>7.6</td>\n",
       "      <td>172.7</td>\n",
       "    </tr>\n",
       "  </tbody>\n",
       "</table>\n",
       "</div>"
      ],
      "text/plain": [
       "   gender age  admissionweight  unabridgedhosplos  acutephysiologyscore  \\\n",
       "0  Female  48             86.4            27.5583                    44   \n",
       "1  Female  59             66.6            15.0778                    56   \n",
       "2    Male  31             66.8             2.7326                    45   \n",
       "3  Female  51             77.1             0.1986                    19   \n",
       "4  Female  48             63.4             1.7285                    25   \n",
       "\n",
       "   apachescore actualhospitalmortality  heartrate  meanbp  creatinine  \\\n",
       "0           49                   ALIVE      102.0    54.0        1.16   \n",
       "1           61                   ALIVE      134.0   172.0        1.03   \n",
       "2           45                   ALIVE      138.0    71.0        2.35   \n",
       "3           24                   ALIVE      122.0    73.0       -1.00   \n",
       "4           30                   ALIVE      130.0    68.0        1.10   \n",
       "\n",
       "   temperature  respiratoryrate   wbc  admissionheight  \n",
       "0         36.9             39.0   6.1            177.8  \n",
       "1         34.8             32.0  25.5            170.2  \n",
       "2         37.2             34.0  21.4            188.0  \n",
       "3         36.8             26.0  -1.0            160.0  \n",
       "4         -1.0             29.0   7.6            172.7  "
      ]
     },
     "execution_count": 2,
     "metadata": {},
     "output_type": "execute_result"
    }
   ],
   "source": [
    "# import libraries\n",
    "import os\n",
    "import numpy as np\n",
    "import pandas as pd\n",
    "from matplotlib import pyplot as plt\n",
    "\n",
    "# load the data\n",
    "cohort = pd.read_csv('./eicu_cohort_trees.csv')\n",
    "\n",
    "# Display the first 5 rows of the data\n",
    "cohort.head()"
   ]
  },
  {
   "cell_type": "markdown",
   "id": "469e2d68-9c09-48d0-ae03-71be95401558",
   "metadata": {},
   "source": [
    "### Preparing for data analysis"
   ]
  },
  {
   "cell_type": "code",
   "execution_count": 4,
   "id": "9481e815-2663-4b42-8961-9c7cdeae132a",
   "metadata": {},
   "outputs": [],
   "source": [
    "# Encode the categorical data\n",
    "from sklearn.preprocessing import LabelEncoder\n",
    "encoder = LabelEncoder()\n",
    "cohort['actualhospitalmortality_enc'] = encoder.fit_transform(cohort['actualhospitalmortality'])"
   ]
  },
  {
   "cell_type": "code",
   "execution_count": 5,
   "id": "f94f97b3-abeb-440c-b84a-56ff50d86348",
   "metadata": {},
   "outputs": [],
   "source": [
    "# Handle the deidentified ages\n",
    "cohort['age'] = pd.to_numeric(cohort['age'], downcast='integer', errors='coerce')\n",
    "cohort['age'] = cohort['age'].fillna(value=91.5)"
   ]
  },
  {
   "cell_type": "code",
   "execution_count": 22,
   "id": "e07e3f46-eebc-4248-bd8c-ca51653bcf16",
   "metadata": {},
   "outputs": [],
   "source": [
    "# Disable FutureWarning messages\n",
    "import warnings\n",
    "warnings.simplefilter(action='ignore', category=FutureWarning)"
   ]
  },
  {
   "cell_type": "code",
   "execution_count": 23,
   "id": "e6246110-b527-46ce-9a39-7c0b9984a037",
   "metadata": {},
   "outputs": [
    {
     "name": "stdout",
     "output_type": "stream",
     "text": [
      "╒════════════════════════════════════╤═════════╤═══════════╤══════════════╤══════════════╤══════════════╕\n",
      "│                                    │         │ Missing   │ Overall      │ ALIVE        │ EXPIRED      │\n",
      "╞════════════════════════════════════╪═════════╪═══════════╪══════════════╪══════════════╪══════════════╡\n",
      "│ n                                  │         │           │ 536          │ 488          │ 48           │\n",
      "├────────────────────────────────────┼─────────┼───────────┼──────────────┼──────────────┼──────────────┤\n",
      "│ gender, n (%)                      │ Female  │ 0         │ 305 (56.9)   │ 281 (57.6)   │ 24 (50.0)    │\n",
      "├────────────────────────────────────┼─────────┼───────────┼──────────────┼──────────────┼──────────────┤\n",
      "│                                    │ Male    │           │ 230 (42.9)   │ 207 (42.4)   │ 23 (47.9)    │\n",
      "├────────────────────────────────────┼─────────┼───────────┼──────────────┼──────────────┼──────────────┤\n",
      "│                                    │ Unknown │           │ 1 (0.2)      │              │ 1 (2.1)      │\n",
      "├────────────────────────────────────┼─────────┼───────────┼──────────────┼──────────────┼──────────────┤\n",
      "│ age, mean (SD)                     │         │ 0         │ 63.4 (17.4)  │ 62.2 (17.4)  │ 75.2 (12.6)  │\n",
      "├────────────────────────────────────┼─────────┼───────────┼──────────────┼──────────────┼──────────────┤\n",
      "│ admissionweight, mean (SD)         │         │ 16        │ 81.8 (25.0)  │ 82.3 (25.1)  │ 77.0 (23.3)  │\n",
      "├────────────────────────────────────┼─────────┼───────────┼──────────────┼──────────────┼──────────────┤\n",
      "│ unabridgedhosplos, mean (SD)       │         │ 0         │ 5.6 (6.8)    │ 5.7 (6.7)    │ 4.3 (7.8)    │\n",
      "├────────────────────────────────────┼─────────┼───────────┼──────────────┼──────────────┼──────────────┤\n",
      "│ acutephysiologyscore, mean (SD)    │         │ 0         │ 41.7 (22.7)  │ 38.5 (18.8)  │ 74.3 (31.7)  │\n",
      "├────────────────────────────────────┼─────────┼───────────┼──────────────┼──────────────┼──────────────┤\n",
      "│ apachescore, mean (SD)             │         │ 0         │ 53.6 (25.1)  │ 49.9 (21.1)  │ 91.8 (30.5)  │\n",
      "├────────────────────────────────────┼─────────┼───────────┼──────────────┼──────────────┼──────────────┤\n",
      "│ heartrate, mean (SD)               │         │ 0         │ 101.5 (32.9) │ 100.3 (31.9) │ 113.9 (40.0) │\n",
      "├────────────────────────────────────┼─────────┼───────────┼──────────────┼──────────────┼──────────────┤\n",
      "│ meanbp, mean (SD)                  │         │ 0         │ 89.6 (41.5)  │ 90.7 (40.7)  │ 78.8 (47.6)  │\n",
      "├────────────────────────────────────┼─────────┼───────────┼──────────────┼──────────────┼──────────────┤\n",
      "│ creatinine, mean (SD)              │         │ 0         │ 0.8 (2.0)    │ 0.8 (2.0)    │ 1.4 (1.8)    │\n",
      "├────────────────────────────────────┼─────────┼───────────┼──────────────┼──────────────┼──────────────┤\n",
      "│ temperature, mean (SD)             │         │ 0         │ 35.6 (5.6)   │ 35.9 (4.8)   │ 32.9 (10.4)  │\n",
      "├────────────────────────────────────┼─────────┼───────────┼──────────────┼──────────────┼──────────────┤\n",
      "│ respiratoryrate, mean (SD)         │         │ 0         │ 27.4 (15.5)  │ 26.8 (15.4)  │ 33.9 (15.2)  │\n",
      "├────────────────────────────────────┼─────────┼───────────┼──────────────┼──────────────┼──────────────┤\n",
      "│ wbc, mean (SD)                     │         │ 0         │ 6.5 (7.6)    │ 6.2 (7.1)    │ 9.9 (11.2)   │\n",
      "├────────────────────────────────────┼─────────┼───────────┼──────────────┼──────────────┼──────────────┤\n",
      "│ admissionheight, mean (SD)         │         │ 8         │ 168.4 (14.5) │ 168.2 (13.6) │ 170.3 (21.5) │\n",
      "├────────────────────────────────────┼─────────┼───────────┼──────────────┼──────────────┼──────────────┤\n",
      "│ actualhospitalmortality_enc, n (%) │ 0       │ 0         │ 488 (91.0)   │ 488 (100.0)  │              │\n",
      "├────────────────────────────────────┼─────────┼───────────┼──────────────┼──────────────┼──────────────┤\n",
      "│                                    │ 1       │           │ 48 (9.0)     │              │ 48 (100.0)   │\n",
      "╘════════════════════════════════════╧═════════╧═══════════╧══════════════╧══════════════╧══════════════╛\n"
     ]
    }
   ],
   "source": [
    "from tableone import tableone\n",
    "\n",
    "t1 = tableone(cohort, groupby='actualhospitalmortality')\n",
    "#print(t1.tabulate(tablefmt = \"github\"))\n",
    "print(t1.tabulate(tablefmt = \"fancy_grid\"))"
   ]
  },
  {
   "cell_type": "markdown",
   "id": "674e0630-5ef4-4cbc-b214-ef4dcda210ff",
   "metadata": {},
   "source": [
    "### Exercise"
   ]
  },
  {
   "cell_type": "markdown",
   "id": "73927fff-7451-4f4f-8ffe-e57f3c6f2188",
   "metadata": {},
   "source": [
    "a) What proportion of patients survived their hospital stay?"
   ]
  },
  {
   "cell_type": "code",
   "execution_count": null,
   "id": "9b8a3825-ab5a-4b94-8035-d320d6084847",
   "metadata": {},
   "outputs": [],
   "source": []
  },
  {
   "cell_type": "markdown",
   "id": "7ad73b03-d052-4bb7-b80e-195130d10983",
   "metadata": {},
   "source": [
    "b) What is the “apachescore” variable? Hint, see the [Wikipeda entry for the Apache Score](https://en.wikipedia.org/wiki/APACHE_II)."
   ]
  },
  {
   "cell_type": "code",
   "execution_count": null,
   "id": "a5b8cdbb-5f5f-4138-a375-c3a5bdb089ad",
   "metadata": {},
   "outputs": [],
   "source": []
  },
  {
   "cell_type": "markdown",
   "id": "676d644b-e980-498b-91e5-88f03cb7ed71",
   "metadata": {},
   "source": [
    "c) What is the average age of patients?"
   ]
  },
  {
   "cell_type": "code",
   "execution_count": null,
   "id": "be81839b-d252-47a2-bf57-392c9bf1e2a1",
   "metadata": {},
   "outputs": [],
   "source": []
  },
  {
   "cell_type": "markdown",
   "id": "1984a90c-fe00-474a-808c-2cc68be38f49",
   "metadata": {},
   "source": [
    "# Suggested changes"
   ]
  },
  {
   "cell_type": "markdown",
   "id": "735e711d-2204-41bf-9e7c-c3b563b16649",
   "metadata": {},
   "source": [
    "* Deploy into the same directory for the courses\n",
    "* All should probably use the `data` "
   ]
  }
 ],
 "metadata": {
  "kernelspec": {
   "display_name": "Python 3 (ipykernel)",
   "language": "python",
   "name": "python3"
  },
  "language_info": {
   "codemirror_mode": {
    "name": "ipython",
    "version": 3
   },
   "file_extension": ".py",
   "mimetype": "text/x-python",
   "name": "python",
   "nbconvert_exporter": "python",
   "pygments_lexer": "ipython3",
   "version": "3.11.5"
  }
 },
 "nbformat": 4,
 "nbformat_minor": 5
}
